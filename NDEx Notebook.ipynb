{
 "metadata": {
  "name": "",
  "signature": "sha256:f0a67c2df92937b968526e7b5d47c5e725be9d768128cf520f9f43cdc5bf3eca"
 },
 "nbformat": 3,
 "nbformat_minor": 0,
 "worksheets": [
  {
   "cells": [
    {
     "cell_type": "code",
     "collapsed": false,
     "input": [
      "import ndex_client as nc"
     ],
     "language": "python",
     "metadata": {},
     "outputs": [],
     "prompt_number": 13
    },
    {
     "cell_type": "code",
     "collapsed": false,
     "input": [
      "my_ndex = nc.Ndex(\"http://www.ndexbio.org\", \"mytestuser\", \"mytestpassword\")\n",
      "my_ndex.find_networks_as_data_frame(\"metabolism\")"
     ],
     "language": "python",
     "metadata": {},
     "outputs": [
      {
       "output_type": "stream",
       "stream": "stdout",
       "text": [
        "POST route: http://www.ndexbio.org/rest/network/search/0/100\n",
        "{\"searchString\": \"metabolism\"}\n"
       ]
      },
      {
       "html": [
        "<div style=\"max-height:1000px;max-width:1500px;overflow:auto;\">\n",
        "<table border=\"1\" class=\"dataframe\">\n",
        "  <thead>\n",
        "    <tr style=\"text-align: right;\">\n",
        "      <th></th>\n",
        "      <th>creationTime</th>\n",
        "      <th>description</th>\n",
        "      <th>edgeCount</th>\n",
        "      <th>externalId</th>\n",
        "      <th>isComplete</th>\n",
        "      <th>isLocked</th>\n",
        "      <th>modificationTime</th>\n",
        "      <th>name</th>\n",
        "      <th>nodeCount</th>\n",
        "      <th>presentationProperties</th>\n",
        "      <th>properties</th>\n",
        "      <th>type</th>\n",
        "      <th>uri</th>\n",
        "      <th>version</th>\n",
        "      <th>visibility</th>\n",
        "    </tr>\n",
        "  </thead>\n",
        "  <tbody>\n",
        "    <tr>\n",
        "      <th>0</th>\n",
        "      <td> 1410465145458</td>\n",
        "      <td> None</td>\n",
        "      <td>  4344</td>\n",
        "      <td> 27229ef3-39ed-11e4-bbbc-000c29202374</td>\n",
        "      <td> False</td>\n",
        "      <td> False</td>\n",
        "      <td> 1410465145458</td>\n",
        "      <td>      Metabolism of RNA</td>\n",
        "      <td>  361</td>\n",
        "      <td> []</td>\n",
        "      <td> [{u'valueId': 0, u'dataType': u'String', u'val...</td>\n",
        "      <td> NetworkSummary</td>\n",
        "      <td> http://www.ndexbio.org/network/27229ef3-39ed-1...</td>\n",
        "      <td> None</td>\n",
        "      <td> PUBLIC</td>\n",
        "    </tr>\n",
        "    <tr>\n",
        "      <th>1</th>\n",
        "      <td> 1410464765915</td>\n",
        "      <td> None</td>\n",
        "      <td> 11724</td>\n",
        "      <td> 44e8f480-39ec-11e4-bbbc-000c29202374</td>\n",
        "      <td> False</td>\n",
        "      <td> False</td>\n",
        "      <td> 1410464765915</td>\n",
        "      <td> Metabolism of proteins</td>\n",
        "      <td> 2380</td>\n",
        "      <td> []</td>\n",
        "      <td> [{u'valueId': 0, u'dataType': u'String', u'val...</td>\n",
        "      <td> NetworkSummary</td>\n",
        "      <td> http://www.ndexbio.org/network/44e8f480-39ec-1...</td>\n",
        "      <td> None</td>\n",
        "      <td> PUBLIC</td>\n",
        "    </tr>\n",
        "    <tr>\n",
        "      <th>2</th>\n",
        "      <td> 1410461093562</td>\n",
        "      <td> None</td>\n",
        "      <td> 17253</td>\n",
        "      <td> b8045b53-39e3-11e4-bbbc-000c29202374</td>\n",
        "      <td> False</td>\n",
        "      <td> False</td>\n",
        "      <td> 1410461093562</td>\n",
        "      <td>             Metabolism</td>\n",
        "      <td> 4231</td>\n",
        "      <td> []</td>\n",
        "      <td> [{u'valueId': 0, u'dataType': u'String', u'val...</td>\n",
        "      <td> NetworkSummary</td>\n",
        "      <td> http://www.ndexbio.org/network/b8045b53-39e3-1...</td>\n",
        "      <td> None</td>\n",
        "      <td> PUBLIC</td>\n",
        "    </tr>\n",
        "  </tbody>\n",
        "</table>\n",
        "</div>"
       ],
       "metadata": {},
       "output_type": "pyout",
       "prompt_number": 14,
       "text": [
        "    creationTime description  edgeCount                            externalId  \\\n",
        "0  1410465145458        None       4344  27229ef3-39ed-11e4-bbbc-000c29202374   \n",
        "1  1410464765915        None      11724  44e8f480-39ec-11e4-bbbc-000c29202374   \n",
        "2  1410461093562        None      17253  b8045b53-39e3-11e4-bbbc-000c29202374   \n",
        "\n",
        "  isComplete isLocked  modificationTime                    name  nodeCount  \\\n",
        "0      False    False     1410465145458       Metabolism of RNA        361   \n",
        "1      False    False     1410464765915  Metabolism of proteins       2380   \n",
        "2      False    False     1410461093562              Metabolism       4231   \n",
        "\n",
        "  presentationProperties                                         properties  \\\n",
        "0                     []  [{u'valueId': 0, u'dataType': u'String', u'val...   \n",
        "1                     []  [{u'valueId': 0, u'dataType': u'String', u'val...   \n",
        "2                     []  [{u'valueId': 0, u'dataType': u'String', u'val...   \n",
        "\n",
        "             type                                                uri version  \\\n",
        "0  NetworkSummary  http://www.ndexbio.org/network/27229ef3-39ed-1...    None   \n",
        "1  NetworkSummary  http://www.ndexbio.org/network/44e8f480-39ec-1...    None   \n",
        "2  NetworkSummary  http://www.ndexbio.org/network/b8045b53-39e3-1...    None   \n",
        "\n",
        "  visibility  \n",
        "0     PUBLIC  \n",
        "1     PUBLIC  \n",
        "2     PUBLIC  "
       ]
      }
     ],
     "prompt_number": 14
    },
    {
     "cell_type": "code",
     "collapsed": false,
     "input": [
      "id = \"27229ef3-39ed-11e4-bbbc-000c29202374\"\n",
      "property_graph_network = my_ndex.get_neighborhood_as_property_graph(id, \"PHAX\")\n",
      "pd_network = nc.PDGraph(property_graph_network)\n",
      "pd_network.properties"
     ],
     "language": "python",
     "metadata": {},
     "outputs": [
      {
       "output_type": "stream",
       "stream": "stdout",
       "text": [
        "POST route: http://www.ndexbio.org/rest/network/27229ef3-39ed-11e4-bbbc-000c29202374/asPropertyGraph/query\n",
        "{\"searchDepth\": 1, \"searchString\": \"PHAX\"}\n"
       ]
      },
      {
       "metadata": {},
       "output_type": "pyout",
       "prompt_number": 15,
       "text": [
        "Series([], dtype: float64)"
       ]
      }
     ],
     "prompt_number": 15
    },
    {
     "cell_type": "code",
     "collapsed": false,
     "input": [
      "pd_network.edges"
     ],
     "language": "python",
     "metadata": {},
     "outputs": [
      {
       "html": [
        "<div style=\"max-height:1000px;max-width:1500px;overflow:auto;\">\n",
        "<table border=\"1\" class=\"dataframe\">\n",
        "  <thead>\n",
        "    <tr style=\"text-align: right;\">\n",
        "      <th></th>\n",
        "      <th>ndex:objectId</th>\n",
        "      <th>ndex:predicate</th>\n",
        "      <th>ndex:subjectId</th>\n",
        "    </tr>\n",
        "  </thead>\n",
        "  <tbody>\n",
        "    <tr>\n",
        "      <th>643041</th>\n",
        "      <td> 642919</td>\n",
        "      <td> IN_SAME_COMPONENT</td>\n",
        "      <td> 642894</td>\n",
        "    </tr>\n",
        "    <tr>\n",
        "      <th>646797</th>\n",
        "      <td> 641935</td>\n",
        "      <td>       REACTS_WITH</td>\n",
        "      <td> 642919</td>\n",
        "    </tr>\n",
        "    <tr>\n",
        "      <th>646794</th>\n",
        "      <td> 641933</td>\n",
        "      <td>      COMPONENT_OF</td>\n",
        "      <td> 642919</td>\n",
        "    </tr>\n",
        "    <tr>\n",
        "      <th>646795</th>\n",
        "      <td> 641939</td>\n",
        "      <td> IN_SAME_COMPONENT</td>\n",
        "      <td> 642919</td>\n",
        "    </tr>\n",
        "    <tr>\n",
        "      <th>642920</th>\n",
        "      <td> 642919</td>\n",
        "      <td>      STATE_CHANGE</td>\n",
        "      <td> 642558</td>\n",
        "    </tr>\n",
        "  </tbody>\n",
        "</table>\n",
        "</div>"
       ],
       "metadata": {},
       "output_type": "pyout",
       "prompt_number": 16,
       "text": [
        "        ndex:objectId     ndex:predicate  ndex:subjectId\n",
        "643041         642919  IN_SAME_COMPONENT          642894\n",
        "646797         641935        REACTS_WITH          642919\n",
        "646794         641933       COMPONENT_OF          642919\n",
        "646795         641939  IN_SAME_COMPONENT          642919\n",
        "642920         642919       STATE_CHANGE          642558"
       ]
      }
     ],
     "prompt_number": 16
    },
    {
     "cell_type": "code",
     "collapsed": false,
     "input": [
      "pd_network.nodes"
     ],
     "language": "python",
     "metadata": {},
     "outputs": [
      {
       "html": [
        "<div style=\"max-height:1000px;max-width:1500px;overflow:auto;\">\n",
        "<table border=\"1\" class=\"dataframe\">\n",
        "  <thead>\n",
        "    <tr style=\"text-align: right;\">\n",
        "      <th></th>\n",
        "      <th>NDEX:represents</th>\n",
        "      <th>dc:title</th>\n",
        "    </tr>\n",
        "  </thead>\n",
        "  <tbody>\n",
        "    <tr>\n",
        "      <th>642919</th>\n",
        "      <td>            Q9H814</td>\n",
        "      <td>                               PHAX</td>\n",
        "    </tr>\n",
        "    <tr>\n",
        "      <th>641939</th>\n",
        "      <td>          95148441</td>\n",
        "      <td>          Cap Binding Complex (CBC)</td>\n",
        "    </tr>\n",
        "    <tr>\n",
        "      <th>641935</th>\n",
        "      <td>          75933843</td>\n",
        "      <td>      m7G capped Spliceosomal snRNA</td>\n",
        "    </tr>\n",
        "    <tr>\n",
        "      <th>641933</th>\n",
        "      <td>         -19835646</td>\n",
        "      <td>  m7G capped snRNA:CBC:PHAX complex</td>\n",
        "    </tr>\n",
        "    <tr>\n",
        "      <th>642558</th>\n",
        "      <td>          90099101</td>\n",
        "      <td>         Nuclear Pore Complex (NPC)</td>\n",
        "    </tr>\n",
        "    <tr>\n",
        "      <th>642894</th>\n",
        "      <td> CHEBI:CHEBI:17825</td>\n",
        "      <td> 7-methylguanosine 5'-phosphate(1+)</td>\n",
        "    </tr>\n",
        "  </tbody>\n",
        "</table>\n",
        "</div>"
       ],
       "metadata": {},
       "output_type": "pyout",
       "prompt_number": 17,
       "text": [
        "          NDEX:represents                            dc:title\n",
        "642919             Q9H814                                PHAX\n",
        "641939           95148441           Cap Binding Complex (CBC)\n",
        "641935           75933843       m7G capped Spliceosomal snRNA\n",
        "641933          -19835646   m7G capped snRNA:CBC:PHAX complex\n",
        "642558           90099101          Nuclear Pore Complex (NPC)\n",
        "642894  CHEBI:CHEBI:17825  7-methylguanosine 5'-phosphate(1+)"
       ]
      }
     ],
     "prompt_number": 17
    },
    {
     "cell_type": "code",
     "collapsed": false,
     "input": [
      "import numpy as np\n",
      "import pandas as pd\n",
      "nodes = pd_network.nodes\n",
      "nodes[\"values\"] = pd.Series(np.random.randn(len(nodes)), index=nodes.index)\n",
      "nodes"
     ],
     "language": "python",
     "metadata": {},
     "outputs": [
      {
       "html": [
        "<div style=\"max-height:1000px;max-width:1500px;overflow:auto;\">\n",
        "<table border=\"1\" class=\"dataframe\">\n",
        "  <thead>\n",
        "    <tr style=\"text-align: right;\">\n",
        "      <th></th>\n",
        "      <th>NDEX:represents</th>\n",
        "      <th>dc:title</th>\n",
        "      <th>values</th>\n",
        "    </tr>\n",
        "  </thead>\n",
        "  <tbody>\n",
        "    <tr>\n",
        "      <th>642919</th>\n",
        "      <td>            Q9H814</td>\n",
        "      <td>                               PHAX</td>\n",
        "      <td> 0.977144</td>\n",
        "    </tr>\n",
        "    <tr>\n",
        "      <th>641939</th>\n",
        "      <td>          95148441</td>\n",
        "      <td>          Cap Binding Complex (CBC)</td>\n",
        "      <td>-0.351897</td>\n",
        "    </tr>\n",
        "    <tr>\n",
        "      <th>641935</th>\n",
        "      <td>          75933843</td>\n",
        "      <td>      m7G capped Spliceosomal snRNA</td>\n",
        "      <td>-1.560540</td>\n",
        "    </tr>\n",
        "    <tr>\n",
        "      <th>641933</th>\n",
        "      <td>         -19835646</td>\n",
        "      <td>  m7G capped snRNA:CBC:PHAX complex</td>\n",
        "      <td> 1.501095</td>\n",
        "    </tr>\n",
        "    <tr>\n",
        "      <th>642558</th>\n",
        "      <td>          90099101</td>\n",
        "      <td>         Nuclear Pore Complex (NPC)</td>\n",
        "      <td> 0.403544</td>\n",
        "    </tr>\n",
        "    <tr>\n",
        "      <th>642894</th>\n",
        "      <td> CHEBI:CHEBI:17825</td>\n",
        "      <td> 7-methylguanosine 5'-phosphate(1+)</td>\n",
        "      <td>-0.308723</td>\n",
        "    </tr>\n",
        "  </tbody>\n",
        "</table>\n",
        "</div>"
       ],
       "metadata": {},
       "output_type": "pyout",
       "prompt_number": 18,
       "text": [
        "          NDEX:represents                            dc:title    values\n",
        "642919             Q9H814                                PHAX  0.977144\n",
        "641939           95148441           Cap Binding Complex (CBC) -0.351897\n",
        "641935           75933843       m7G capped Spliceosomal snRNA -1.560540\n",
        "641933          -19835646   m7G capped snRNA:CBC:PHAX complex  1.501095\n",
        "642558           90099101          Nuclear Pore Complex (NPC)  0.403544\n",
        "642894  CHEBI:CHEBI:17825  7-methylguanosine 5'-phosphate(1+) -0.308723"
       ]
      }
     ],
     "prompt_number": 18
    },
    {
     "cell_type": "code",
     "collapsed": false,
     "input": [
      "import ndex_util as nu\n",
      "network_x = nu.ndex_property_graph_network_to_network_x(property_graph_network)"
     ],
     "language": "python",
     "metadata": {},
     "outputs": [],
     "prompt_number": 20
    },
    {
     "cell_type": "code",
     "collapsed": false,
     "input": [
      "from py2cytoscape import util as cy\n",
      "cytoscape_network = cy.from_networkx(network_x)"
     ],
     "language": "python",
     "metadata": {},
     "outputs": [],
     "prompt_number": 21
    },
    {
     "cell_type": "code",
     "collapsed": false,
     "input": [
      "import requests\n",
      "import json\n",
      "HEADERS = {'Content-type': 'application/json'}\n",
      "response = requests.post('http://localhost:1234/v1/networks', data=json.dumps(cytoscape_network), headers=HEADERS)"
     ],
     "language": "python",
     "metadata": {},
     "outputs": [],
     "prompt_number": 26
    },
    {
     "cell_type": "code",
     "collapsed": false,
     "input": [
      "cytoscape_id = json.loads(response.content)['networkSUID']"
     ],
     "language": "python",
     "metadata": {},
     "outputs": [],
     "prompt_number": 27
    },
    {
     "cell_type": "code",
     "collapsed": false,
     "input": [
      "requests.get('http://localhost:1234/v1/apply/layouts/force-directed/' + str(cytoscape_id))"
     ],
     "language": "python",
     "metadata": {},
     "outputs": [
      {
       "metadata": {},
       "output_type": "pyout",
       "prompt_number": 28,
       "text": [
        "<Response [200]>"
       ]
      }
     ],
     "prompt_number": 28
    },
    {
     "cell_type": "code",
     "collapsed": false,
     "input": [
      "from IPython.display import Image\n",
      "Image('http://localhost:1234/v1/networks/' + str(cytoscape_id) + '/views/first.png')"
     ],
     "language": "python",
     "metadata": {},
     "outputs": [
      {
       "metadata": {},
       "output_type": "pyout",
       "png": "[encoded data removed]",
       "prompt_number": 29,
       "text": [
        "<IPython.core.display.Image at 0x10cacb890>"
       ]
      }
     ],
     "prompt_number": 29
    },
    {
     "cell_type": "code",
     "collapsed": false,
     "input": [],
     "language": "python",
     "metadata": {},
     "outputs": []
    }
   ],
   "metadata": {}
  }
 ]
}